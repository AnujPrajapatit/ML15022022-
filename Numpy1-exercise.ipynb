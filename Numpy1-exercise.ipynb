{
 "cells": [
  {
   "cell_type": "markdown",
   "id": "215d4c96-fca4-4581-9640-f966a1e2ea45",
   "metadata": {},
   "source": [
    "# NumPy Exercises - Solutions"
   ]
  },
  {
   "cell_type": "markdown",
   "id": "69b407e5-96ea-43f0-bf0e-1f540bbe7980",
   "metadata": {},
   "source": [
    "### Now that we've learned about NumPy let's test your knowledge. We'll start off with a few simple tasks and then you'll be asked some more complicated questions"
   ]
  },
  {
   "cell_type": "markdown",
   "id": "d1ed70f6-2e11-46d7-ba46-aaf4e8d7a796",
   "metadata": {},
   "source": [
    "## Import NumPy as np"
   ]
  },
  {
   "cell_type": "code",
   "execution_count": 1,
   "id": "6100ea66-c8fa-4d6e-bdd7-a4c9279db43f",
   "metadata": {},
   "outputs": [],
   "source": [
    "import numpy as np"
   ]
  },
  {
   "cell_type": "markdown",
   "id": "56202ca4-f77d-4806-8a91-3674db6feeb2",
   "metadata": {},
   "source": [
    "### Create an array of 10 zeros"
   ]
  },
  {
   "cell_type": "code",
   "execution_count": 2,
   "id": "0f42b866-2da2-4677-9ffb-3f65f1db8ae9",
   "metadata": {},
   "outputs": [
    {
     "data": {
      "text/plain": [
       "array([0., 0., 0., 0., 0., 0., 0., 0., 0., 0.])"
      ]
     },
     "execution_count": 2,
     "metadata": {},
     "output_type": "execute_result"
    }
   ],
   "source": [
    "zero=np.zeros(10)\n",
    "zero"
   ]
  },
  {
   "cell_type": "markdown",
   "id": "6abca1cd-0d68-4105-979a-90f23f71c5ff",
   "metadata": {},
   "source": [
    "## Create an array of 10 fives"
   ]
  },
  {
   "cell_type": "code",
   "execution_count": 3,
   "id": "9aeb65c7-d9df-4082-81fd-da22c1a1bbf2",
   "metadata": {},
   "outputs": [
    {
     "data": {
      "text/plain": [
       "array([5., 5., 5., 5., 5., 5., 5., 5., 5., 5.])"
      ]
     },
     "execution_count": 3,
     "metadata": {},
     "output_type": "execute_result"
    }
   ],
   "source": [
    "five=np.ones(10)*5\n",
    "five"
   ]
  },
  {
   "cell_type": "markdown",
   "id": "201947f4-9819-4cf9-99ca-afb64fe60995",
   "metadata": {},
   "source": [
    "## Create an array of 10 ones"
   ]
  },
  {
   "cell_type": "code",
   "execution_count": 4,
   "id": "38fa45f3-3699-4eb3-b2f5-85a5ce1fbfaf",
   "metadata": {},
   "outputs": [
    {
     "data": {
      "text/plain": [
       "array([1., 1., 1., 1., 1., 1., 1., 1., 1., 1.])"
      ]
     },
     "execution_count": 4,
     "metadata": {},
     "output_type": "execute_result"
    }
   ],
   "source": [
    "one=np.ones(10)\n",
    "one"
   ]
  },
  {
   "cell_type": "markdown",
   "id": "51589e76-5db3-42e0-b585-227eca039a42",
   "metadata": {},
   "source": [
    "## Create an array of the integers from 10 to 50"
   ]
  },
  {
   "cell_type": "code",
   "execution_count": 5,
   "id": "c4abd666-d3bd-4152-8f74-37c1007c055c",
   "metadata": {},
   "outputs": [
    {
     "data": {
      "text/plain": [
       "array([10, 11, 12, 13, 14, 15, 16, 17, 18, 19, 20, 21, 22, 23, 24, 25, 26,\n",
       "       27, 28, 29, 30, 31, 32, 33, 34, 35, 36, 37, 38, 39, 40, 41, 42, 43,\n",
       "       44, 45, 46, 47, 48, 49])"
      ]
     },
     "execution_count": 5,
     "metadata": {},
     "output_type": "execute_result"
    }
   ],
   "source": [
    "arr=np.array(range(10,50))\n",
    "arr"
   ]
  },
  {
   "cell_type": "markdown",
   "id": "3d4447d6-2d4f-4569-9b6e-c29e9cdccd7a",
   "metadata": {},
   "source": [
    "## Create an array of all the even integers from 10 to 50"
   ]
  },
  {
   "cell_type": "code",
   "execution_count": 6,
   "id": "4ebd757f-14c8-4c11-8469-c479ec8cffb0",
   "metadata": {},
   "outputs": [
    {
     "data": {
      "text/plain": [
       "array([10, 12, 14, 16, 18, 20, 22, 24, 26, 28, 30, 32, 34, 36, 38, 40, 42,\n",
       "       44, 46, 48])"
      ]
     },
     "execution_count": 6,
     "metadata": {},
     "output_type": "execute_result"
    }
   ],
   "source": [
    "Evenarr=np.array(range(10,50,2))\n",
    "Evenarr"
   ]
  },
  {
   "cell_type": "markdown",
   "id": "093a7c9d-182a-4606-a6ec-dc20a8592e6a",
   "metadata": {},
   "source": [
    "## Create a 3x3 matrix with values ranging from 0 to 8"
   ]
  },
  {
   "cell_type": "code",
   "execution_count": 7,
   "id": "44119589-5656-4f88-8f96-acf681789dfb",
   "metadata": {},
   "outputs": [
    {
     "data": {
      "text/plain": [
       "array([[0, 1, 2],\n",
       "       [3, 4, 5],\n",
       "       [6, 7, 8]])"
      ]
     },
     "execution_count": 7,
     "metadata": {},
     "output_type": "execute_result"
    }
   ],
   "source": [
    "a1=np.array([[0,1,2],[3,4,5],[6,7,8]])\n",
    "a1"
   ]
  },
  {
   "cell_type": "markdown",
   "id": "4fc8f4e6-5318-4294-aa26-cd2713a96512",
   "metadata": {
    "tags": []
   },
   "source": [
    "## Create a 3x3 identity matrix"
   ]
  },
  {
   "cell_type": "code",
   "execution_count": 10,
   "id": "31ba8db5-a854-4e2b-8b18-b16fbecd75e7",
   "metadata": {},
   "outputs": [
    {
     "data": {
      "text/plain": [
       "array([[0, 1, 2],\n",
       "       [3, 4, 5],\n",
       "       [6, 7, 8]])"
      ]
     },
     "execution_count": 10,
     "metadata": {},
     "output_type": "execute_result"
    }
   ],
   "source": [
    "a1=np.array([[0,1,2],[3,4,5],[6,7,8]])\n",
    "a1"
   ]
  },
  {
   "cell_type": "markdown",
   "id": "80f5147c-f585-4a5e-b1e6-580823749b17",
   "metadata": {},
   "source": [
    "## Use NumPy to generate a random number between 0 and 1"
   ]
  },
  {
   "cell_type": "code",
   "execution_count": 11,
   "id": "a183bf0a-57eb-46fb-a5f9-14887b268505",
   "metadata": {},
   "outputs": [
    {
     "data": {
      "text/plain": [
       "array([0.60090522])"
      ]
     },
     "execution_count": 11,
     "metadata": {},
     "output_type": "execute_result"
    }
   ],
   "source": [
    "array=np.random.random(1)\n",
    "array"
   ]
  },
  {
   "cell_type": "markdown",
   "id": "da974c3c-aabf-41b7-8be7-23172f9b3d6e",
   "metadata": {},
   "source": [
    "## Use NumPy to generate an array of 25 random numbers sampled from a standard normal distribution"
   ]
  },
  {
   "cell_type": "code",
   "execution_count": 12,
   "id": "89c689d7-39a5-41b1-812d-741c6d2bab9e",
   "metadata": {},
   "outputs": [
    {
     "data": {
      "text/plain": [
       "array([0.24467898, 0.41474731, 0.76010786, 0.11624889, 0.09338728,\n",
       "       0.49160266, 0.00338654, 0.17875262, 0.90296981, 0.75163207,\n",
       "       0.10184747, 0.63966922, 0.6232265 , 0.14087655, 0.83519321,\n",
       "       0.99679661, 0.80352652, 0.94057901, 0.28743128, 0.5560898 ,\n",
       "       0.69610331, 0.64227617, 0.50172323, 0.52516892, 0.95271654])"
      ]
     },
     "execution_count": 12,
     "metadata": {},
     "output_type": "execute_result"
    }
   ],
   "source": [
    "aaray=np.random.random(25)\n",
    "aaray"
   ]
  },
  {
   "cell_type": "markdown",
   "id": "d65da5c7-8677-441e-8b75-64b2ef282371",
   "metadata": {},
   "source": [
    "## Create the following matrix:"
   ]
  },
  {
   "cell_type": "code",
   "execution_count": 13,
   "id": "9bb72fa5-24dd-498d-9ccf-f4dcaa4be8ee",
   "metadata": {},
   "outputs": [
    {
     "data": {
      "text/plain": [
       "array([[0.        , 0.02040816, 0.04081633, 0.06122449, 0.08163265,\n",
       "        0.10204082, 0.12244898, 0.14285714, 0.16326531, 0.18367347,\n",
       "        0.20408163, 0.2244898 , 0.24489796, 0.26530612, 0.28571429,\n",
       "        0.30612245, 0.32653061, 0.34693878, 0.36734694, 0.3877551 ,\n",
       "        0.40816327, 0.42857143, 0.44897959, 0.46938776, 0.48979592,\n",
       "        0.51020408, 0.53061224, 0.55102041, 0.57142857, 0.59183673,\n",
       "        0.6122449 , 0.63265306, 0.65306122, 0.67346939, 0.69387755,\n",
       "        0.71428571, 0.73469388, 0.75510204, 0.7755102 , 0.79591837,\n",
       "        0.81632653, 0.83673469, 0.85714286, 0.87755102, 0.89795918,\n",
       "        0.91836735, 0.93877551, 0.95918367, 0.97959184, 1.        ]])"
      ]
     },
     "execution_count": 13,
     "metadata": {},
     "output_type": "execute_result"
    }
   ],
   "source": [
    "arr=np.array([np.linspace(0,1)])\n",
    "arr"
   ]
  },
  {
   "cell_type": "markdown",
   "id": "24cc0fe4-d8d5-45e9-a248-55fb5f7e086f",
   "metadata": {},
   "source": [
    "## Create an array of 20 linearly spaced points between 0 and 1:"
   ]
  },
  {
   "cell_type": "code",
   "execution_count": 14,
   "id": "ddb99602-69aa-4f59-8c32-38dcc72a17a7",
   "metadata": {},
   "outputs": [
    {
     "data": {
      "text/plain": [
       "array([[0.        , 0.05263158, 0.10526316, 0.15789474, 0.21052632,\n",
       "        0.26315789, 0.31578947, 0.36842105, 0.42105263, 0.47368421,\n",
       "        0.52631579, 0.57894737, 0.63157895, 0.68421053, 0.73684211,\n",
       "        0.78947368, 0.84210526, 0.89473684, 0.94736842, 1.        ]])"
      ]
     },
     "execution_count": 14,
     "metadata": {},
     "output_type": "execute_result"
    }
   ],
   "source": [
    "ar=np.array([np.linspace(0,1,20)])\n",
    "ar"
   ]
  },
  {
   "cell_type": "markdown",
   "id": "37c367af-5dd9-42d4-889f-6b1dda9f8f11",
   "metadata": {},
   "source": [
    "# Numpy Indexing and Selection"
   ]
  },
  {
   "cell_type": "markdown",
   "id": "7fc974dc-1800-4336-97a7-732f6fd6c35f",
   "metadata": {},
   "source": [
    "#### Now you will be given a few matrices, and be asked to replicate the resulting matrix outputs:"
   ]
  },
  {
   "cell_type": "code",
   "execution_count": 15,
   "id": "6edecfdd-ad02-47ef-8409-59690f7fd282",
   "metadata": {},
   "outputs": [
    {
     "data": {
      "text/plain": [
       "array([[ 1,  2,  3,  4,  5],\n",
       "       [ 6,  7,  8,  9, 10],\n",
       "       [11, 12, 13, 14, 15],\n",
       "       [16, 17, 18, 19, 20],\n",
       "       [21, 22, 23, 24, 25]])"
      ]
     },
     "execution_count": 15,
     "metadata": {},
     "output_type": "execute_result"
    }
   ],
   "source": [
    "e=np.array(range(1,26))\n",
    "g=e.reshape(5,5)\n",
    "g"
   ]
  },
  {
   "cell_type": "markdown",
   "id": "30b98e80-3694-4d3c-8892-2ce7d9f362e1",
   "metadata": {},
   "source": [
    "### WRITE CODE HERE THAT REPRODUCES THE OUTPUT OF THE CELL BELOW\n",
    "### BE CAREFUL NOT TO RUN THE CELL BELOW, OTHERWISE YOU WON'T\n",
    "### BE ABLE TO SEE THE OUTPUT ANY MORE"
   ]
  },
  {
   "cell_type": "code",
   "execution_count": 16,
   "id": "ea5d497b-f34e-4214-8b26-75e5053a683a",
   "metadata": {},
   "outputs": [
    {
     "data": {
      "text/plain": [
       "array([[12, 13, 14, 15],\n",
       "       [17, 18, 19, 20],\n",
       "       [22, 23, 24, 25]])"
      ]
     },
     "execution_count": 16,
     "metadata": {},
     "output_type": "execute_result"
    }
   ],
   "source": [
    "l=g[2::,1::]\n",
    "l"
   ]
  },
  {
   "cell_type": "markdown",
   "id": "364e45dc-1b66-46b0-a9ca-3b8e7911f051",
   "metadata": {},
   "source": [
    "#### WRITE CODE HERE THAT REPRODUCES THE OUTPUT OF THE CELL BELOW\n",
    "#### BE CAREFUL NOT TO RUN THE CELL BELOW, OTHERWISE YOU WON'T\n",
    "#### BE ABLE TO SEE THE OUTPUT ANY MORE"
   ]
  },
  {
   "cell_type": "code",
   "execution_count": 17,
   "id": "8a26d29a-1f9d-4be4-8f54-1cde6aaf007f",
   "metadata": {},
   "outputs": [
    {
     "data": {
      "text/plain": [
       "20"
      ]
     },
     "execution_count": 17,
     "metadata": {},
     "output_type": "execute_result"
    }
   ],
   "source": [
    "l[1,3]"
   ]
  },
  {
   "cell_type": "markdown",
   "id": "097ef9df-004e-442a-8424-8253c52958d0",
   "metadata": {},
   "source": [
    "#### WRITE CODE HERE THAT REPRODUCES THE OUTPUT OF THE CELL BELOW\n",
    "#### BE CAREFUL NOT TO RUN THE CELL BELOW, OTHERWISE YOU WON'T\n",
    "#### BE ABLE TO SEE THE OUTPUT ANY MORE"
   ]
  },
  {
   "cell_type": "code",
   "execution_count": 18,
   "id": "c4ed1b69-8d7f-4462-a833-1a8e41d9fcf1",
   "metadata": {},
   "outputs": [
    {
     "data": {
      "text/plain": [
       "array([[ 2],\n",
       "       [ 7],\n",
       "       [12]])"
      ]
     },
     "execution_count": 18,
     "metadata": {},
     "output_type": "execute_result"
    }
   ],
   "source": [
    "r=g[0:3:,1]\n",
    "r=r.reshape(3,1)\n",
    "r"
   ]
  },
  {
   "cell_type": "markdown",
   "id": "07d7a9e5-10ba-4e09-acc4-c77d032cd4ec",
   "metadata": {},
   "source": [
    "#### WRITE CODE HERE THAT REPRODUCES THE OUTPUT OF THE CELL BELOW\n",
    "#### BE CAREFUL NOT TO RUN THE CELL BELOW, OTHERWISE YOU WON'T\n",
    "#### BE ABLE TO SEE THE OUTPUT ANY MORE"
   ]
  },
  {
   "cell_type": "code",
   "execution_count": 19,
   "id": "6deba9da-9a9a-4cc5-b1b3-a6c72ceb510f",
   "metadata": {},
   "outputs": [
    {
     "data": {
      "text/plain": [
       "array([21, 22, 23, 24, 25])"
      ]
     },
     "execution_count": 19,
     "metadata": {},
     "output_type": "execute_result"
    }
   ],
   "source": [
    "k=g[4,0:5]\n",
    "k"
   ]
  },
  {
   "cell_type": "markdown",
   "id": "dddadb2d-5638-431e-b909-3f3b35c5792e",
   "metadata": {},
   "source": [
    "#### WRITE CODE HERE THAT REPRODUCES THE OUTPUT OF THE CELL BELOW\n",
    "#### BE CAREFUL NOT TO RUN THE CELL BELOW, OTHERWISE YOU WON'T\n",
    "#### BE ABLE TO SEE THE OUTPUT ANY MORE"
   ]
  },
  {
   "cell_type": "code",
   "execution_count": 20,
   "id": "d32d3f9d-3dbc-4008-919f-239491cb039c",
   "metadata": {},
   "outputs": [
    {
     "data": {
      "text/plain": [
       "array([[16, 17, 18, 19, 20],\n",
       "       [21, 22, 23, 24, 25]])"
      ]
     },
     "execution_count": 20,
     "metadata": {},
     "output_type": "execute_result"
    }
   ],
   "source": [
    "k=g[3:5,0:5]\n",
    "k"
   ]
  },
  {
   "cell_type": "markdown",
   "id": "acf7832d-152b-4c75-a7e1-8378ea675c7d",
   "metadata": {},
   "source": [
    "## Now do the following\n",
    "### Get the sum of all the values in mat"
   ]
  },
  {
   "cell_type": "code",
   "execution_count": 21,
   "id": "2446d757-131f-46ee-8541-9fd7e52a8002",
   "metadata": {},
   "outputs": [
    {
     "data": {
      "text/plain": [
       "325"
      ]
     },
     "execution_count": 21,
     "metadata": {},
     "output_type": "execute_result"
    }
   ],
   "source": [
    "g.sum()"
   ]
  },
  {
   "cell_type": "markdown",
   "id": "5272849b-4aaa-4af3-8d55-51be2b49c6dc",
   "metadata": {},
   "source": [
    "#### Get the standard deviation of the values in mat"
   ]
  },
  {
   "cell_type": "code",
   "execution_count": 23,
   "id": "109fbff1-9746-4750-88b6-9dc80a780815",
   "metadata": {},
   "outputs": [
    {
     "data": {
      "text/plain": [
       "7.211102550927978"
      ]
     },
     "execution_count": 23,
     "metadata": {},
     "output_type": "execute_result"
    }
   ],
   "source": [
    "g.std()"
   ]
  },
  {
   "cell_type": "markdown",
   "id": "a90046e8-6eef-49c1-ac07-3e77b3ae08db",
   "metadata": {},
   "source": [
    "### Get the sum of all the columns in mat"
   ]
  },
  {
   "cell_type": "code",
   "execution_count": 24,
   "id": "c76581d3-2ab2-4f2a-b686-0cbf9282190d",
   "metadata": {},
   "outputs": [
    {
     "data": {
      "text/plain": [
       "array([55, 60, 65, 70, 75])"
      ]
     },
     "execution_count": 24,
     "metadata": {},
     "output_type": "execute_result"
    }
   ],
   "source": [
    "g.sum(axis =0)"
   ]
  },
  {
   "cell_type": "markdown",
   "id": "3f4ed780-e6ec-4aa8-a20b-bba1f980cd1e",
   "metadata": {},
   "source": [
    "## done"
   ]
  },
  {
   "cell_type": "code",
   "execution_count": null,
   "id": "b1730951-c016-4859-970e-36298947329c",
   "metadata": {},
   "outputs": [],
   "source": []
  }
 ],
 "metadata": {
  "kernelspec": {
   "display_name": "Python 3 (ipykernel)",
   "language": "python",
   "name": "python3"
  },
  "language_info": {
   "codemirror_mode": {
    "name": "ipython",
    "version": 3
   },
   "file_extension": ".py",
   "mimetype": "text/x-python",
   "name": "python",
   "nbconvert_exporter": "python",
   "pygments_lexer": "ipython3",
   "version": "3.9.7"
  }
 },
 "nbformat": 4,
 "nbformat_minor": 5
}
